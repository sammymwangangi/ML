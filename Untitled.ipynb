{
 "cells": [
  {
   "cell_type": "code",
   "execution_count": 2,
   "id": "d8ba1ecb-0560-4062-b2d3-b007c3532246",
   "metadata": {},
   "outputs": [],
   "source": [
    "import mysql.connector"
   ]
  },
  {
   "cell_type": "code",
   "execution_count": 5,
   "id": "8c348ea2-b223-46b4-b755-149a11009a24",
   "metadata": {},
   "outputs": [],
   "source": [
    "mydb = mysql.connector.connect(\n",
    "    host=\"localhost\",\n",
    "    user=\"root\",\n",
    "    password=\"\",\n",
    "    database=\"econ\"\n",
    ")"
   ]
  },
  {
   "cell_type": "code",
   "execution_count": 6,
   "id": "05f67c33-01a0-4d09-a57d-e4f48d7caa28",
   "metadata": {},
   "outputs": [],
   "source": [
    "cursor = mydb.cursor()"
   ]
  },
  {
   "cell_type": "code",
   "execution_count": 10,
   "id": "cd4ba370-f542-4b7a-9807-c980502efd3c",
   "metadata": {},
   "outputs": [],
   "source": [
    "cursor.execute(\"SHOW TABLES\")"
   ]
  },
  {
   "cell_type": "code",
   "execution_count": 11,
   "id": "f5b942dc-b787-4d70-80eb-bedb2f0a3693",
   "metadata": {},
   "outputs": [
    {
     "name": "stdout",
     "output_type": "stream",
     "text": [
      "('categories',)\n",
      "('comments',)\n",
      "('failed_jobs',)\n",
      "('migrations',)\n",
      "('model_has_permissions',)\n",
      "('model_has_roles',)\n",
      "('notifications',)\n",
      "('password_resets',)\n",
      "('permissions',)\n",
      "('personal_access_tokens',)\n",
      "('posts',)\n",
      "('projects',)\n",
      "('role_has_permissions',)\n",
      "('roles',)\n",
      "('sessions',)\n",
      "('tasks',)\n",
      "('team_invitations',)\n",
      "('team_user',)\n",
      "('teams',)\n",
      "('telescope_entries',)\n",
      "('telescope_entries_tags',)\n",
      "('telescope_monitoring',)\n",
      "('users',)\n"
     ]
    }
   ],
   "source": [
    "for x in cursor:\n",
    "    print(x)"
   ]
  },
  {
   "cell_type": "code",
   "execution_count": 12,
   "id": "dbfb51aa-cd17-42bd-8b13-f3ca1f677906",
   "metadata": {},
   "outputs": [],
   "source": [
    "sql = \"INSERT INTO categories (id, name, created_at, updated_at) VALUES (%s, %s, %s, %s)\"\n",
    "val = (\"1\", \"Test\", \"2021-07-12 06:54:20\", \"2021-07-12 06:54:20\")\n",
    "\n",
    "cursor.execute(sql, val)"
   ]
  },
  {
   "cell_type": "code",
   "execution_count": 13,
   "id": "82ef43b5-84cc-4418-81d9-1ccc1fd38008",
   "metadata": {},
   "outputs": [],
   "source": [
    "mydb.commit()"
   ]
  },
  {
   "cell_type": "code",
   "execution_count": 14,
   "id": "d5d35346-f307-4031-afca-02db61f5f6f9",
   "metadata": {},
   "outputs": [
    {
     "name": "stdout",
     "output_type": "stream",
     "text": [
      "1 record inserted successfully\n"
     ]
    }
   ],
   "source": [
    "print(cursor.rowcount, \"record inserted successfully\")"
   ]
  },
  {
   "cell_type": "code",
   "execution_count": null,
   "id": "b97d2914-e56c-42f8-a833-16f48a0f768f",
   "metadata": {},
   "outputs": [],
   "source": []
  }
 ],
 "metadata": {
  "kernelspec": {
   "display_name": "Python 3",
   "language": "python",
   "name": "python3"
  },
  "language_info": {
   "codemirror_mode": {
    "name": "ipython",
    "version": 3
   },
   "file_extension": ".py",
   "mimetype": "text/x-python",
   "name": "python",
   "nbconvert_exporter": "python",
   "pygments_lexer": "ipython3",
   "version": "3.9.2"
  }
 },
 "nbformat": 4,
 "nbformat_minor": 5
}
