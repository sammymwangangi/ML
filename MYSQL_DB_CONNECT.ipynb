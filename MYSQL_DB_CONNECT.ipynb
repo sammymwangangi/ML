{
 "cells": [
  {
   "cell_type": "code",
   "execution_count": 1,
   "id": "d8ba1ecb-0560-4062-b2d3-b007c3532246",
   "metadata": {},
   "outputs": [],
   "source": [
    "import mysql.connector"
   ]
  },
  {
   "cell_type": "code",
   "execution_count": 3,
   "id": "8c348ea2-b223-46b4-b755-149a11009a24",
   "metadata": {},
   "outputs": [
    {
     "name": "stdout",
     "output_type": "stream",
     "text": [
      "<mysql.connector.connection.MySQLConnection object at 0x00000230691547C0>\n"
     ]
    }
   ],
   "source": [
    "mydb = mysql.connector.connect(\n",
    "    host=\"localhost\",\n",
    "    user=\"root\",\n",
    "    password=\"\"\n",
    ")\n",
    "print(mydb)"
   ]
  },
  {
   "cell_type": "code",
   "execution_count": 4,
   "id": "1ee781ff-0d5f-4ae1-9041-09f0203f49da",
   "metadata": {},
   "outputs": [],
   "source": [
    "mycursor = mydb.cursor()"
   ]
  },
  {
   "cell_type": "code",
   "execution_count": 5,
   "id": "b3487aff-2364-40c1-b0af-8ac7279a8b63",
   "metadata": {},
   "outputs": [],
   "source": [
    "mycursor.execute(\"CREATE DATABASE pyportia\")"
   ]
  },
  {
   "cell_type": "code",
   "execution_count": 7,
   "id": "20e6ed23-0666-435a-b38a-6382d210945e",
   "metadata": {},
   "outputs": [],
   "source": [
    "mycursor.execute(\"SHOW DATABASES\")"
   ]
  },
  {
   "cell_type": "code",
   "execution_count": 8,
   "id": "63d52895-f70e-4c81-a511-d7ed6275c8fe",
   "metadata": {},
   "outputs": [
    {
     "name": "stdout",
     "output_type": "stream",
     "text": [
      "('information_schema',)\n",
      "('bookstack',)\n",
      "('bookstore',)\n",
      "('cube',)\n",
      "('dev',)\n",
      "('econ',)\n",
      "('econvue',)\n",
      "('event',)\n",
      "('hodabookstore',)\n",
      "('mishan',)\n",
      "('mysql',)\n",
      "('performance_schema',)\n",
      "('pokeza',)\n",
      "('portia',)\n",
      "('pyportia',)\n",
      "('sys',)\n",
      "('tall_v3',)\n",
      "('tasks',)\n"
     ]
    }
   ],
   "source": [
    "for x in mycursor:\n",
    "    print(x)"
   ]
  },
  {
   "cell_type": "code",
   "execution_count": null,
   "id": "260f744c-bc32-4b7f-a5f3-cb685125448b",
   "metadata": {},
   "outputs": [],
   "source": []
  }
 ],
 "metadata": {
  "kernelspec": {
   "display_name": "Python 3",
   "language": "python",
   "name": "python3"
  },
  "language_info": {
   "codemirror_mode": {
    "name": "ipython",
    "version": 3
   },
   "file_extension": ".py",
   "mimetype": "text/x-python",
   "name": "python",
   "nbconvert_exporter": "python",
   "pygments_lexer": "ipython3",
   "version": "3.9.2"
  }
 },
 "nbformat": 4,
 "nbformat_minor": 5
}
